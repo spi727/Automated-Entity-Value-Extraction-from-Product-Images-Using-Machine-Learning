{
 "cells": [
  {
   "cell_type": "markdown",
   "id": "1b70b34e",
   "metadata": {},
   "source": [
    "### Basic library imports"
   ]
  },
  {
   "cell_type": "code",
   "execution_count": 2,
   "id": "719d15af",
   "metadata": {},
   "outputs": [],
   "source": [
    "import os\n",
    "import pandas as pd"
   ]
  },
  {
   "cell_type": "markdown",
   "id": "b8911e33",
   "metadata": {},
   "source": [
    "### Read Dataset"
   ]
  },
  {
   "cell_type": "code",
   "execution_count": 3,
   "id": "d3136aac",
   "metadata": {},
   "outputs": [],
   "source": [
    "DATASET_FOLDER = '../dataset/'\n",
    "train = pd.read_csv(os.path.join(DATASET_FOLDER, 'train.csv'))\n",
    "test = pd.read_csv(os.path.join(DATASET_FOLDER, 'test.csv'))\n",
    "sample_test = pd.read_csv(os.path.join(DATASET_FOLDER, 'sample_test.csv'))\n",
    "sample_test_out = pd.read_csv(os.path.join(DATASET_FOLDER, 'sample_test_out.csv'))\n",
    "df=pd.read_csv(os.path.join(DATASET_FOLDER, 'test_out.csv'))\n",
    "df1=pd.read_csv(os.path.join(DATASET_FOLDER, 'test_an2.csv'))\n",
    "\n",
    "df1.drop(\"index\",axis=1)\n",
    "df1.to_csv(os.path.join(DATASET_FOLDER, 'test_an2.csv'),index=False)\n",
    "df1['index']=df['index'].to_numpy()\n",
    "df1.to_csv(os.path.join(DATASET_FOLDER, 'test_an2.csv'),index=False)\n",
    "# Define a function to perform the conversion\n",
    "def convert_value(val):\n",
    "    # Check if the value starts with a '.'\n",
    "    if isinstance(val, str) and val.startswith('.'):\n",
    "        return '0' + val  # Add '0' before the dot\n",
    "    return val  # Return unchanged if not in the desired format\n",
    "\n",
    "\n",
    "# Apply the function to the 'prediction' column\n",
    "#testout['prediction'] = testout['prediction'].apply(convert_value)\n",
    "\n",
    "# Save the modified dataframe back to CSV if needed\n",
    "#testout.to_csv(os.path.join(DATASET_FOLDER, 'test_out.csv'), index=False)\n"
   ]
  },
  {
   "cell_type": "code",
   "execution_count": 17,
   "id": "d9037bcb",
   "metadata": {},
   "outputs": [
    {
     "name": "stdout",
     "output_type": "stream",
     "text": [
      "<bound method DataFrame.info of          index        prediction\n",
      "0            0               NaN\n",
      "1            1     42 centimetre\n",
      "2            2     42 centimetre\n",
      "3            3     42 centimetre\n",
      "4            4  10.50 centimetre\n",
      "...        ...               ...\n",
      "131182  131283               NaN\n",
      "131183  131284               NaN\n",
      "131184  131285               NaN\n",
      "131185  131286               NaN\n",
      "131186  131287               NaN\n",
      "\n",
      "[131187 rows x 2 columns]>\n"
     ]
    }
   ],
   "source": [
    "df=pd.read_csv(os.path.join(DATASET_FOLDER, 'test_out.csv'))\n",
    "df1=pd.read_csv(os.path.join(DATASET_FOLDER, 'test_out1.csv'))\n",
    "\n",
    "df_filled = df.fillna(df1)\n",
    "print(df_filled.info)\n",
    "# Save the result to a new CSV file\n",
    "df_filled.to_csv(os.path.join(DATASET_FOLDER, 'test_out1.csv'), index=False)\n"
   ]
  },
  {
   "cell_type": "code",
   "execution_count": 4,
   "id": "b8d17119",
   "metadata": {},
   "outputs": [],
   "source": [
    "def convert_value(val):\n",
    "    # Check if the value starts with a '.'\n",
    "    if isinstance(val, str) and val.startswith('.'):\n",
    "        return '0' + val  # Add '0' before the dot\n",
    "    return val  # Return unchanged if not in the desired format\n",
    "\n",
    "testout=pd.read_csv(os.path.join(DATASET_FOLDER, 'test_an2.csv'))\n",
    "# Apply the function to the 'prediction' column\n",
    "testout['prediction'] = testout['prediction'].apply(convert_value)\n",
    "\n",
    "# Save the modified dataframe back to CSV if needed\n",
    "testout.to_csv(os.path.join(DATASET_FOLDER, 'test_an2.csv'), index=False)\n"
   ]
  },
  {
   "cell_type": "markdown",
   "id": "60ebd689",
   "metadata": {},
   "source": [
    "### Run Sanity check using src/sanity.py"
   ]
  },
  {
   "cell_type": "code",
   "execution_count": 11,
   "id": "81bb3988",
   "metadata": {},
   "outputs": [
    {
     "name": "stdout",
     "output_type": "stream",
     "text": [
      "Parsing successfull for file: ../dataset/sample_test_out.csv\r\n"
     ]
    }
   ],
   "source": [
    "!python sanity.py --test_filename ../dataset/sample_test.csv --output_filename ../dataset/sample_test_out.csv"
   ]
  },
  {
   "cell_type": "code",
   "execution_count": 5,
   "id": "5aa79459",
   "metadata": {},
   "outputs": [
    {
     "name": "stdout",
     "output_type": "stream",
     "text": [
      "Parsing successfull for file: ../dataset/test_an2.csv\n"
     ]
    }
   ],
   "source": [
    "!python sanity.py --test_filename ../dataset/test.csv --output_filename ../dataset/test_an2.csv"
   ]
  },
  {
   "cell_type": "markdown",
   "id": "dbe930a8",
   "metadata": {},
   "source": [
    "### Download images"
   ]
  },
  {
   "cell_type": "code",
   "execution_count": 5,
   "id": "a3d1aad8",
   "metadata": {},
   "outputs": [
    {
     "name": "stderr",
     "output_type": "stream",
     "text": [
      "Exception in thread Thread-7 (_handle_workers):\n",
      "Traceback (most recent call last):\n",
      "  File \"c:\\Program Files\\Python311\\Lib\\threading.py\", line 1038, in _bootstrap_inner\n",
      "    self.run()\n",
      "  File \"c:\\Program Files\\Python311\\Lib\\threading.py\", line 975, in run\n",
      "    self._target(*self._args, **self._kwargs)\n",
      "  File \"c:\\Program Files\\Python311\\Lib\\multiprocessing\\pool.py\", line 522, in _handle_workers\n",
      "    cls._wait_for_updates(current_sentinels, change_notifier)\n",
      "  File \"c:\\Program Files\\Python311\\Lib\\multiprocessing\\pool.py\", line 502, in _wait_for_updates\n",
      "    wait(sentinels, timeout=timeout)\n",
      "  File \"c:\\Program Files\\Python311\\Lib\\multiprocessing\\connection.py\", line 878, in wait\n",
      "    ready_handles = _exhaustive_wait(waithandle_to_obj.keys(), timeout)\n",
      "                    ^^^^^^^^^^^^^^^^^^^^^^^^^^^^^^^^^^^^^^^^^^^^^^^^^^^\n",
      "  File \"c:\\Program Files\\Python311\\Lib\\multiprocessing\\connection.py\", line 810, in _exhaustive_wait\n",
      "    res = _winapi.WaitForMultipleObjects(L, False, timeout)\n",
      "          ^^^^^^^^^^^^^^^^^^^^^^^^^^^^^^^^^^^^^^^^^^^^^^^^^\n",
      "ValueError: need at most 63 handles, got a sequence of length 66\n",
      "  0%|          | 1144/263859 [02:20<9:16:36,  7.87it/s] "
     ]
    }
   ],
   "source": [
    "from utils import download_images\n",
    "download_images(train['image_link'], '../images')"
   ]
  },
  {
   "cell_type": "code",
   "execution_count": 14,
   "id": "89aaba53",
   "metadata": {},
   "outputs": [],
   "source": [
    "assert len(os.listdir('../images')) > 0"
   ]
  },
  {
   "cell_type": "code",
   "execution_count": 15,
   "id": "1ba3d802",
   "metadata": {},
   "outputs": [],
   "source": [
    "rm -rf ../images"
   ]
  },
  {
   "cell_type": "code",
   "execution_count": null,
   "id": "6c38a641",
   "metadata": {},
   "outputs": [],
   "source": []
  }
 ],
 "metadata": {
  "kernelspec": {
   "display_name": "Python 3",
   "language": "python",
   "name": "python3"
  },
  "language_info": {
   "codemirror_mode": {
    "name": "ipython",
    "version": 3
   },
   "file_extension": ".py",
   "mimetype": "text/x-python",
   "name": "python",
   "nbconvert_exporter": "python",
   "pygments_lexer": "ipython3",
   "version": "3.11.4"
  }
 },
 "nbformat": 4,
 "nbformat_minor": 5
}
